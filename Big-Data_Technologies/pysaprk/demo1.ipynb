{
 "cells": [
  {
   "cell_type": "code",
   "execution_count": 13,
   "id": "8cf36773",
   "metadata": {},
   "outputs": [
    {
     "name": "stderr",
     "output_type": "stream",
     "text": [
      "Setting default log level to \"WARN\".\n",
      "To adjust logging level use sc.setLogLevel(newLevel). For SparkR, use setLogLevel(newLevel).\n"
     ]
    },
    {
     "name": "stdout",
     "output_type": "stream",
     "text": [
      "22/10/09 17:31:00 WARN NativeCodeLoader: Unable to load native-hadoop library for your platform... using builtin-java classes where applicable\n"
     ]
    }
   ],
   "source": [
    "from pyspark.sql import SparkSession\n",
    "\n"
   ]
  },
  {
   "cell_type": "code",
   "execution_count": 15,
   "id": "1d77dd82",
   "metadata": {},
   "outputs": [],
   "source": [
    "spark = SparkSession.builder.getOrCreate()\n",
    "data = [('James','','Smith','1991-04-01','M',3000),\n",
    "  ('Michael','Rose','','2000-05-19','M',4000),\n",
    "  ('Robert','','Williams','1978-09-05','M',4000),\n",
    "  ('Maria','Anne','Jones','1967-12-01','F',4000),\n",
    "  ('Jen','Mary','Brown','1980-02-17','F',-1)\n",
    "]"
   ]
  },
  {
   "cell_type": "code",
   "execution_count": 21,
   "id": "25c96690",
   "metadata": {},
   "outputs": [],
   "source": [
    "\n",
    "columns = [\"firstname\",\"middlename\",\"lastname\",\"dob\",\"gender\",\"salary\"]\n",
    "df = spark.createDataFrame(data=data, schema = columns)"
   ]
  },
  {
   "cell_type": "code",
   "execution_count": 23,
   "id": "6672a6e0",
   "metadata": {},
   "outputs": [
    {
     "name": "stdout",
     "output_type": "stream",
     "text": [
      "root\n",
      " |-- firstname: string (nullable = true)\n",
      " |-- middlename: string (nullable = true)\n",
      " |-- lastname: string (nullable = true)\n",
      " |-- dob: string (nullable = true)\n",
      " |-- gender: string (nullable = true)\n",
      " |-- salary: long (nullable = true)\n",
      "\n"
     ]
    },
    {
     "name": "stderr",
     "output_type": "stream",
     "text": [
      "                                                                                \r"
     ]
    },
    {
     "name": "stdout",
     "output_type": "stream",
     "text": [
      "+---------+----------+--------+----------+------+------+\n",
      "|firstname|middlename|lastname|       dob|gender|salary|\n",
      "+---------+----------+--------+----------+------+------+\n",
      "|    James|          |   Smith|1991-04-01|     M|  3000|\n",
      "|  Michael|      Rose|        |2000-05-19|     M|  4000|\n",
      "|   Robert|          |Williams|1978-09-05|     M|  4000|\n",
      "|    Maria|      Anne|   Jones|1967-12-01|     F|  4000|\n",
      "|      Jen|      Mary|   Brown|1980-02-17|     F|    -1|\n",
      "+---------+----------+--------+----------+------+------+\n",
      "\n"
     ]
    }
   ],
   "source": [
    "df.printSchema()\n",
    "df.show()"
   ]
  },
  {
   "cell_type": "code",
   "execution_count": 27,
   "id": "f9c15797",
   "metadata": {},
   "outputs": [],
   "source": [
    "df.count()\n",
    "from pyspark.sql.functions import *\n",
    "from pyspark.sql.types import *"
   ]
  },
  {
   "cell_type": "code",
   "execution_count": 28,
   "id": "3b5eafcd",
   "metadata": {},
   "outputs": [
    {
     "name": "stdout",
     "output_type": "stream",
     "text": [
      "+------+---+\n",
      "|salary|  F|\n",
      "+------+---+\n",
      "|  4000|  2|\n",
      "|  3000|  1|\n",
      "|    -1|  1|\n",
      "+------+---+\n",
      "\n"
     ]
    }
   ],
   "source": [
    "df.groupBy('salary').agg(countDistinct('gender').alias('F')).show()"
   ]
  },
  {
   "cell_type": "code",
   "execution_count": 29,
   "id": "1a700f31",
   "metadata": {},
   "outputs": [
    {
     "data": {
      "text/plain": [
       "'3.3.0'"
      ]
     },
     "execution_count": 29,
     "metadata": {},
     "output_type": "execute_result"
    }
   ],
   "source": [
    "spark.version"
   ]
  },
  {
   "cell_type": "code",
   "execution_count": 45,
   "id": "00026d33",
   "metadata": {},
   "outputs": [],
   "source": [
    "from pyspark.sql import SQLContext\n",
    "from pyspark import SparkConf, SparkContext\n",
    "sc = SparkContext.getOrCreate()\n",
    "sqlContext = SQLContext(sc)\n",
    "\n",
    "# Create the DataFrame\n",
    "df = sqlContext.read.json('json_data.json')"
   ]
  },
  {
   "cell_type": "code",
   "execution_count": 44,
   "id": "74edb605",
   "metadata": {},
   "outputs": [
    {
     "name": "stdout",
     "output_type": "stream",
     "text": [
      "+-------------------+-----+-----------+-------+\n",
      "|               City|State|ZipCodeType|Zipcode|\n",
      "+-------------------+-----+-----------+-------+\n",
      "|        PARC PARQUE|   PR|   STANDARD|    704|\n",
      "|PASEO COSTA DEL SUR|   PR|   STANDARD|    704|\n",
      "|       BDA SAN LUIS|   PR|   STANDARD|    709|\n",
      "|  CINGULAR WIRELESS|   TX|     UNIQUE|  76166|\n",
      "|         FORT WORTH|   TX|   STANDARD|  76177|\n",
      "|           FT WORTH|   TX|   STANDARD|  76177|\n",
      "|    URB EUGENE RICE|   PR|   STANDARD|    704|\n",
      "|               MESA|   AZ|   STANDARD|  85209|\n",
      "|               MESA|   AZ|   STANDARD|  85210|\n",
      "|           HILLIARD|   FL|   STANDARD|  32046|\n",
      "+-------------------+-----+-----------+-------+\n",
      "\n"
     ]
    }
   ],
   "source": [
    "df.show()"
   ]
  },
  {
   "cell_type": "code",
   "execution_count": 46,
   "id": "36e1f0ea",
   "metadata": {},
   "outputs": [
    {
     "name": "stdout",
     "output_type": "stream",
     "text": [
      "+-------------------+\n",
      "|               city|\n",
      "+-------------------+\n",
      "|        PARC PARQUE|\n",
      "|PASEO COSTA DEL SUR|\n",
      "|       BDA SAN LUIS|\n",
      "|  CINGULAR WIRELESS|\n",
      "|         FORT WORTH|\n",
      "|           FT WORTH|\n",
      "|    URB EUGENE RICE|\n",
      "|               MESA|\n",
      "|               MESA|\n",
      "|           HILLIARD|\n",
      "+-------------------+\n",
      "\n"
     ]
    }
   ],
   "source": [
    "df.select('city').show()"
   ]
  },
  {
   "cell_type": "code",
   "execution_count": 49,
   "id": "47b5b15a",
   "metadata": {},
   "outputs": [
    {
     "name": "stdout",
     "output_type": "stream",
     "text": [
      "+-------------------+-------------+\n",
      "|               city|(Zipcode + 1)|\n",
      "+-------------------+-------------+\n",
      "|        PARC PARQUE|          705|\n",
      "|PASEO COSTA DEL SUR|          705|\n",
      "|       BDA SAN LUIS|          710|\n",
      "|  CINGULAR WIRELESS|        76167|\n",
      "|         FORT WORTH|        76178|\n",
      "|           FT WORTH|        76178|\n",
      "|    URB EUGENE RICE|          705|\n",
      "|               MESA|        85210|\n",
      "|               MESA|        85211|\n",
      "|           HILLIARD|        32047|\n",
      "+-------------------+-------------+\n",
      "\n"
     ]
    }
   ],
   "source": [
    "df.select(df['city'],df['Zipcode']+1).show()"
   ]
  },
  {
   "cell_type": "code",
   "execution_count": 50,
   "id": "443315c1",
   "metadata": {},
   "outputs": [
    {
     "name": "stdout",
     "output_type": "stream",
     "text": [
      "+-----------------+-----+-----------+-------+\n",
      "|             City|State|ZipCodeType|Zipcode|\n",
      "+-----------------+-----+-----------+-------+\n",
      "|     BDA SAN LUIS|   PR|   STANDARD|    709|\n",
      "|CINGULAR WIRELESS|   TX|     UNIQUE|  76166|\n",
      "|       FORT WORTH|   TX|   STANDARD|  76177|\n",
      "|         FT WORTH|   TX|   STANDARD|  76177|\n",
      "|             MESA|   AZ|   STANDARD|  85209|\n",
      "|             MESA|   AZ|   STANDARD|  85210|\n",
      "|         HILLIARD|   FL|   STANDARD|  32046|\n",
      "+-----------------+-----+-----------+-------+\n",
      "\n"
     ]
    }
   ],
   "source": [
    "df.filter(df['Zipcode']>704).show()"
   ]
  },
  {
   "cell_type": "code",
   "execution_count": 51,
   "id": "4aaa1bac",
   "metadata": {},
   "outputs": [
    {
     "name": "stdout",
     "output_type": "stream",
     "text": [
      "+-------------------+-----+\n",
      "|               city|count|\n",
      "+-------------------+-----+\n",
      "|  CINGULAR WIRELESS|    1|\n",
      "|        PARC PARQUE|    1|\n",
      "|               MESA|    2|\n",
      "|       BDA SAN LUIS|    1|\n",
      "|           FT WORTH|    1|\n",
      "|         FORT WORTH|    1|\n",
      "|    URB EUGENE RICE|    1|\n",
      "|PASEO COSTA DEL SUR|    1|\n",
      "|           HILLIARD|    1|\n",
      "+-------------------+-----+\n",
      "\n"
     ]
    }
   ],
   "source": [
    "df.groupBy('city').count().show()"
   ]
  },
  {
   "cell_type": "code",
   "execution_count": null,
   "id": "81ddaceb",
   "metadata": {},
   "outputs": [],
   "source": []
  },
  {
   "cell_type": "code",
   "execution_count": null,
   "id": "29990317",
   "metadata": {},
   "outputs": [],
   "source": []
  }
 ],
 "metadata": {
  "kernelspec": {
   "display_name": "Python 3 (ipykernel)",
   "language": "python",
   "name": "python3"
  },
  "language_info": {
   "codemirror_mode": {
    "name": "ipython",
    "version": 3
   },
   "file_extension": ".py",
   "mimetype": "text/x-python",
   "name": "python",
   "nbconvert_exporter": "python",
   "pygments_lexer": "ipython3",
   "version": "3.9.7"
  }
 },
 "nbformat": 4,
 "nbformat_minor": 5
}

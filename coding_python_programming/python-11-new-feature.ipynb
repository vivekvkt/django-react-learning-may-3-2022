{
 "cells": [
  {
   "cell_type": "code",
   "execution_count": 2,
   "id": "98fc91cb",
   "metadata": {},
   "outputs": [
    {
     "data": {
      "text/plain": [
       "40"
      ]
     },
     "execution_count": 2,
     "metadata": {},
     "output_type": "execute_result"
    }
   ],
   "source": [
    "num1 = 100\n",
    "num2 = 200\n",
    "name = \"vivek\"\n",
    "\n",
    "def fun(x,y):\n",
    "    z = x + y\n",
    "    return z\n",
    "fun(10,30)"
   ]
  },
  {
   "cell_type": "code",
   "execution_count": 3,
   "id": "b4b6c19d",
   "metadata": {},
   "outputs": [
    {
     "data": {
      "text/plain": [
       "{'__name__': '__main__',\n",
       " '__doc__': 'Automatically created module for IPython interactive environment',\n",
       " '__package__': None,\n",
       " '__loader__': None,\n",
       " '__spec__': None,\n",
       " '__builtin__': <module 'builtins' (built-in)>,\n",
       " '__builtins__': <module 'builtins' (built-in)>,\n",
       " '_ih': ['',\n",
       "  'num1 = 100\\nnum2 = 200\\nname = \"vivek\"\\n\\ndef fun(x,y):\\n    z = x + y\\n    return z\\nfun()',\n",
       "  'num1 = 100\\nnum2 = 200\\nname = \"vivek\"\\n\\ndef fun(x,y):\\n    z = x + y\\n    return z\\nfun(10,30)',\n",
       "  'globals()'],\n",
       " '_oh': {2: 40},\n",
       " '_dh': ['/home/admin01/Documents/django-react-learning-may-3-2022/corePython'],\n",
       " 'In': ['',\n",
       "  'num1 = 100\\nnum2 = 200\\nname = \"vivek\"\\n\\ndef fun(x,y):\\n    z = x + y\\n    return z\\nfun()',\n",
       "  'num1 = 100\\nnum2 = 200\\nname = \"vivek\"\\n\\ndef fun(x,y):\\n    z = x + y\\n    return z\\nfun(10,30)',\n",
       "  'globals()'],\n",
       " 'Out': {2: 40},\n",
       " 'get_ipython': <bound method InteractiveShell.get_ipython of <ipykernel.zmqshell.ZMQInteractiveShell object at 0x7fe5b0ad7550>>,\n",
       " 'exit': <IPython.core.autocall.ZMQExitAutocall at 0x7fe5b0afc2e0>,\n",
       " 'quit': <IPython.core.autocall.ZMQExitAutocall at 0x7fe5b0afc2e0>,\n",
       " '_': 40,\n",
       " '__': '',\n",
       " '___': '',\n",
       " '_i': 'num1 = 100\\nnum2 = 200\\nname = \"vivek\"\\n\\ndef fun(x,y):\\n    z = x + y\\n    return z\\nfun(10,30)',\n",
       " '_ii': 'num1 = 100\\nnum2 = 200\\nname = \"vivek\"\\n\\ndef fun(x,y):\\n    z = x + y\\n    return z\\nfun()',\n",
       " '_iii': '',\n",
       " '_i1': 'num1 = 100\\nnum2 = 200\\nname = \"vivek\"\\n\\ndef fun(x,y):\\n    z = x + y\\n    return z\\nfun()',\n",
       " 'num1': 100,\n",
       " 'num2': 200,\n",
       " 'name': 'vivek',\n",
       " 'fun': <function __main__.fun(x, y)>,\n",
       " '_i2': 'num1 = 100\\nnum2 = 200\\nname = \"vivek\"\\n\\ndef fun(x,y):\\n    z = x + y\\n    return z\\nfun(10,30)',\n",
       " '_2': 40,\n",
       " '_i3': 'globals()'}"
      ]
     },
     "execution_count": 3,
     "metadata": {},
     "output_type": "execute_result"
    }
   ],
   "source": [
    "globals()"
   ]
  },
  {
   "cell_type": "code",
   "execution_count": 9,
   "id": "333bb21d",
   "metadata": {},
   "outputs": [
    {
     "name": "stdout",
     "output_type": "stream",
     "text": [
      "x inside function:  20\n",
      "20\n"
     ]
    }
   ],
   "source": [
    "x=10\n",
    "def myfunction():\n",
    "    #x=10\n",
    "    global x \n",
    "    \n",
    "    x=x*2\n",
    "    print ('x inside function: ', x)\n",
    "myfunction()\n",
    "print(x)"
   ]
  },
  {
   "cell_type": "code",
   "execution_count": 7,
   "id": "a025fd15",
   "metadata": {},
   "outputs": [
    {
     "ename": "SyntaxError",
     "evalue": "invalid syntax (3975043293.py, line 2)",
     "output_type": "error",
     "traceback": [
      "\u001b[0;36m  Input \u001b[0;32mIn [7]\u001b[0;36m\u001b[0m\n\u001b[0;31m    match status:\u001b[0m\n\u001b[0m          ^\u001b[0m\n\u001b[0;31mSyntaxError\u001b[0m\u001b[0;31m:\u001b[0m invalid syntax\n"
     ]
    }
   ],
   "source": [
    "def http_error(status):\n",
    "    match status:\n",
    "            case 400:\n",
    "                return \"Bad request\"\n",
    "            case 404:\n",
    "                return \"Not found\"\n",
    "            case 418:\n",
    "                return \"I'm a teapot\"\n",
    "            case _:\n",
    "                return \"Something's wrong with the internet\"\n",
    "http_error(418)"
   ]
  },
  {
   "cell_type": "code",
   "execution_count": 9,
   "id": "fffdb78d",
   "metadata": {},
   "outputs": [
    {
     "name": "stdout",
     "output_type": "stream",
     "text": [
      "October is the tenth month\n"
     ]
    }
   ],
   "source": [
    "months = {\n",
    "    10: \"October\",\n",
    "    11: \"November\",\n",
    "    12: \"December\"\n",
    "}\n",
    "print(f\"{months[10]} is the tenth month\")"
   ]
  },
  {
   "cell_type": "code",
   "execution_count": null,
   "id": "05ca6c7f",
   "metadata": {},
   "outputs": [],
   "source": [
    "import pandas as pd"
   ]
  },
  {
   "cell_type": "code",
   "execution_count": null,
   "id": "c20b0de3",
   "metadata": {},
   "outputs": [],
   "source": [
    "import numpy as np"
   ]
  },
  {
   "cell_type": "code",
   "execution_count": null,
   "id": "9cc5212c",
   "metadata": {},
   "outputs": [],
   "source": [
    "s = pd.Series()\n",
    "print(s)"
   ]
  },
  {
   "cell_type": "code",
   "execution_count": null,
   "id": "bbac724d",
   "metadata": {},
   "outputs": [],
   "source": [
    "n = np.array(['v','i','v','e','k'])"
   ]
  },
  {
   "cell_type": "code",
   "execution_count": null,
   "id": "99428f64",
   "metadata": {},
   "outputs": [],
   "source": [
    "s = pd.Series(n)"
   ]
  },
  {
   "cell_type": "code",
   "execution_count": null,
   "id": "6010f499",
   "metadata": {},
   "outputs": [],
   "source": [
    "print(s)"
   ]
  },
  {
   "cell_type": "code",
   "execution_count": null,
   "id": "b873b61d",
   "metadata": {},
   "outputs": [],
   "source": []
  }
 ],
 "metadata": {
  "kernelspec": {
   "display_name": "Python 3 (ipykernel)",
   "language": "python",
   "name": "python3"
  },
  "language_info": {
   "codemirror_mode": {
    "name": "ipython",
    "version": 3
   },
   "file_extension": ".py",
   "mimetype": "text/x-python",
   "name": "python",
   "nbconvert_exporter": "python",
   "pygments_lexer": "ipython3",
   "version": "3.9.13"
  }
 },
 "nbformat": 4,
 "nbformat_minor": 5
}

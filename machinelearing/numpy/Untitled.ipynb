{
 "cells": [
  {
   "cell_type": "code",
   "execution_count": 2,
   "id": "35ca50a9",
   "metadata": {},
   "outputs": [],
   "source": [
    "import numpy as np"
   ]
  },
  {
   "cell_type": "code",
   "execution_count": 3,
   "id": "f571508a",
   "metadata": {},
   "outputs": [],
   "source": [
    "ar = np.array([1,23,4,5])"
   ]
  },
  {
   "cell_type": "code",
   "execution_count": 4,
   "id": "0a6fed91",
   "metadata": {},
   "outputs": [],
   "source": [
    "ar_tup = np.array((1,2,3,4))"
   ]
  },
  {
   "cell_type": "code",
   "execution_count": 5,
   "id": "fe37bb6c",
   "metadata": {},
   "outputs": [
    {
     "data": {
      "text/plain": [
       "numpy.ndarray"
      ]
     },
     "execution_count": 5,
     "metadata": {},
     "output_type": "execute_result"
    }
   ],
   "source": [
    "type(ar_tup)"
   ]
  },
  {
   "cell_type": "code",
   "execution_count": 6,
   "id": "1f54978a",
   "metadata": {},
   "outputs": [
    {
     "name": "stdout",
     "output_type": "stream",
     "text": [
      "Initial Array: \n",
      "[[-1.   2.   0.   4. ]\n",
      " [ 4.  -0.5  6.   0. ]\n",
      " [ 2.6  0.   7.   8. ]\n",
      " [ 3.  -7.   4.   2. ]]\n"
     ]
    }
   ],
   "source": [
    "# Initial Array\n",
    "arr = np.array([[-1, 2, 0, 4],\n",
    "                [4, -0.5, 6, 0],\n",
    "                [2.6, 0, 7, 8],\n",
    "                [3, -7, 4, 2.0]])\n",
    "print(\"Initial Array: \")\n",
    "print(arr)"
   ]
  },
  {
   "cell_type": "code",
   "execution_count": 7,
   "id": "0ee3915d",
   "metadata": {},
   "outputs": [],
   "source": [
    "slice_array = arr[:3,::2]"
   ]
  },
  {
   "cell_type": "code",
   "execution_count": 8,
   "id": "a23422d5",
   "metadata": {},
   "outputs": [
    {
     "name": "stdout",
     "output_type": "stream",
     "text": [
      "[[-1.   0. ]\n",
      " [ 4.   6. ]\n",
      " [ 2.6  7. ]]\n"
     ]
    }
   ],
   "source": [
    "print(slice_array)"
   ]
  },
  {
   "cell_type": "code",
   "execution_count": 9,
   "id": "ee219857",
   "metadata": {},
   "outputs": [],
   "source": [
    "# Defining Array 1\n",
    "a = np.array([[1, 2],\n",
    "              [3, 4]])"
   ]
  },
  {
   "cell_type": "code",
   "execution_count": 10,
   "id": "eb2a8cf3",
   "metadata": {},
   "outputs": [],
   "source": [
    "# Defining Array 2\n",
    "b = np.array([[4, 3],\n",
    "              [2, 1]])"
   ]
  },
  {
   "cell_type": "code",
   "execution_count": 11,
   "id": "0387a56c",
   "metadata": {},
   "outputs": [
    {
     "name": "stdout",
     "output_type": "stream",
     "text": [
      "[[2 3]\n",
      " [4 5]]\n"
     ]
    }
   ],
   "source": [
    "print(a+1)"
   ]
  },
  {
   "cell_type": "code",
   "execution_count": 12,
   "id": "20d4b260",
   "metadata": {},
   "outputs": [
    {
     "name": "stdout",
     "output_type": "stream",
     "text": [
      "[[5 4]\n",
      " [3 2]]\n"
     ]
    }
   ],
   "source": [
    "print(b+1)"
   ]
  },
  {
   "cell_type": "code",
   "execution_count": 13,
   "id": "fff5d191",
   "metadata": {},
   "outputs": [
    {
     "name": "stdout",
     "output_type": "stream",
     "text": [
      "int64\n"
     ]
    }
   ],
   "source": [
    "print(a.dtype)"
   ]
  },
  {
   "cell_type": "code",
   "execution_count": 14,
   "id": "84f4722b",
   "metadata": {},
   "outputs": [
    {
     "name": "stdout",
     "output_type": "stream",
     "text": [
      "[[5 5]\n",
      " [5 5]]\n"
     ]
    }
   ],
   "source": [
    "s = np.add(a,b)\n",
    "print(s)"
   ]
  },
  {
   "cell_type": "code",
   "execution_count": 15,
   "id": "798989fb",
   "metadata": {},
   "outputs": [
    {
     "name": "stdout",
     "output_type": "stream",
     "text": [
      "[4 6]\n"
     ]
    }
   ],
   "source": [
    "print(sum(a))"
   ]
  },
  {
   "cell_type": "code",
   "execution_count": 16,
   "id": "c02ac852",
   "metadata": {},
   "outputs": [],
   "source": [
    "# creating list\n",
    "list_1 = [1, 2, 3, 4]\n",
    "list_2 = [5, 6, 7, 8]\n",
    "list_3 = [9, 10, 11, 12]"
   ]
  },
  {
   "cell_type": "code",
   "execution_count": 17,
   "id": "34162574",
   "metadata": {},
   "outputs": [
    {
     "data": {
      "text/plain": [
       "array([[ 1,  2,  3,  4],\n",
       "       [ 5,  6,  7,  8],\n",
       "       [ 9, 10, 11, 12]])"
      ]
     },
     "execution_count": 17,
     "metadata": {},
     "output_type": "execute_result"
    }
   ],
   "source": [
    "m = np.array([list_1,list_2,list_3])\n",
    "m"
   ]
  },
  {
   "cell_type": "code",
   "execution_count": 18,
   "id": "b5591bfb",
   "metadata": {},
   "outputs": [
    {
     "name": "stdout",
     "output_type": "stream",
     "text": [
      "(3, 4)\n"
     ]
    }
   ],
   "source": [
    "print(m.shape)"
   ]
  },
  {
   "cell_type": "code",
   "execution_count": 19,
   "id": "bb86095a",
   "metadata": {},
   "outputs": [],
   "source": [
    "one = np.ones([4, 3],\n",
    "        dtype = np.int32,\n",
    "        order = 'f')"
   ]
  },
  {
   "cell_type": "code",
   "execution_count": 20,
   "id": "cee21eac",
   "metadata": {},
   "outputs": [
    {
     "data": {
      "text/plain": [
       "array([[1, 1, 1],\n",
       "       [1, 1, 1],\n",
       "       [1, 1, 1],\n",
       "       [1, 1, 1]], dtype=int32)"
      ]
     },
     "execution_count": 20,
     "metadata": {},
     "output_type": "execute_result"
    }
   ],
   "source": [
    "one"
   ]
  },
  {
   "cell_type": "code",
   "execution_count": 21,
   "id": "c846550c",
   "metadata": {},
   "outputs": [],
   "source": [
    "zero = np.zeros([4, 3],\n",
    "         dtype = np.int32,\n",
    "         order = 'f')"
   ]
  },
  {
   "cell_type": "code",
   "execution_count": 22,
   "id": "44f5406d",
   "metadata": {},
   "outputs": [
    {
     "data": {
      "text/plain": [
       "array([[0, 0, 0],\n",
       "       [0, 0, 0],\n",
       "       [0, 0, 0],\n",
       "       [0, 0, 0]], dtype=int32)"
      ]
     },
     "execution_count": 22,
     "metadata": {},
     "output_type": "execute_result"
    }
   ],
   "source": [
    "zero"
   ]
  },
  {
   "cell_type": "code",
   "execution_count": 23,
   "id": "513fd0f7",
   "metadata": {},
   "outputs": [],
   "source": [
    "u = arr = np.array([[1, 5, 6],\n",
    "                [4, 7, 2],\n",
    "                [3, 1, 9]])"
   ]
  },
  {
   "cell_type": "code",
   "execution_count": 24,
   "id": "f00af1ea",
   "metadata": {},
   "outputs": [
    {
     "name": "stdout",
     "output_type": "stream",
     "text": [
      "9\n"
     ]
    }
   ],
   "source": [
    "print(u.max())"
   ]
  },
  {
   "cell_type": "code",
   "execution_count": 25,
   "id": "3044701d",
   "metadata": {},
   "outputs": [
    {
     "name": "stdout",
     "output_type": "stream",
     "text": [
      "[6 7 9]\n"
     ]
    }
   ],
   "source": [
    "print(u.max(axis=1))"
   ]
  },
  {
   "cell_type": "code",
   "execution_count": 26,
   "id": "302e02c1",
   "metadata": {},
   "outputs": [
    {
     "name": "stdout",
     "output_type": "stream",
     "text": [
      "[4 7 9]\n"
     ]
    }
   ],
   "source": [
    "print(u.max(axis=0))"
   ]
  },
  {
   "cell_type": "code",
   "execution_count": 27,
   "id": "27ff06bb",
   "metadata": {},
   "outputs": [
    {
     "name": "stdout",
     "output_type": "stream",
     "text": [
      "Matrix b : \n",
      " [0 0]\n",
      "\n",
      "Matrix a : \n",
      " [[0 0]\n",
      " [0 0]]\n",
      "\n",
      "Matrix c : \n",
      " [[0. 0. 0.]\n",
      " [0. 0. 0.]\n",
      " [0. 0. 0.]]\n"
     ]
    }
   ],
   "source": [
    "b = np.zeros(2, dtype = int)\n",
    "print(\"Matrix b : \\n\", b)\n",
    " \n",
    "a = np.zeros([2, 2], dtype = int)\n",
    "print(\"\\nMatrix a : \\n\", a)\n",
    " \n",
    "c = np.zeros([3, 3])\n",
    "print(\"\\nMatrix c : \\n\", c)"
   ]
  },
  {
   "cell_type": "code",
   "execution_count": 28,
   "id": "1102d0b0",
   "metadata": {},
   "outputs": [
    {
     "name": "stdout",
     "output_type": "stream",
     "text": [
      "arr = [10 32 30 50 20 82 91 45]\n",
      "i = (array([2]),) (array([2]),)\n"
     ]
    }
   ],
   "source": [
    "# creating the array\n",
    "arr = np.array([10, 32, 30, 50, 20, 82, 91, 45])\n",
    "  \n",
    "#  printing arr\n",
    "print(\"arr = {}\".format(arr))\n",
    "  \n",
    "#  looking for value 30 in arr and storing its index in i\n",
    "i = np.where(arr == 30)\n",
    "print(\"i = {}\".format(i),i)"
   ]
  },
  {
   "cell_type": "code",
   "execution_count": 29,
   "id": "ee849041",
   "metadata": {},
   "outputs": [
    {
     "name": "stdout",
     "output_type": "stream",
     "text": [
      "Along first axis : \n",
      " [[10  1]\n",
      " [12 15]]\n"
     ]
    }
   ],
   "source": [
    "# sort along the first axis\n",
    "a = np.array([[12, 15], [10, 1]])\n",
    "arr1 = np.sort(a, axis = 0)       \n",
    "print (\"Along first axis : \\n\", arr1) "
   ]
  },
  {
   "cell_type": "code",
   "execution_count": 30,
   "id": "9a6a10e1",
   "metadata": {},
   "outputs": [
    {
     "name": "stdout",
     "output_type": "stream",
     "text": [
      "\n",
      "Along first axis : \n",
      " [[10 15]\n",
      " [ 1 12]]\n"
     ]
    }
   ],
   "source": [
    "# sort along the last axis\n",
    "a = np.array([[10, 15], [12, 1]])\n",
    "arr2 = np.sort(a, axis = -1)       \n",
    "print (\"\\nAlong first axis : \\n\", arr2)"
   ]
  },
  {
   "cell_type": "code",
   "execution_count": 31,
   "id": "65c614a0",
   "metadata": {},
   "outputs": [
    {
     "name": "stdout",
     "output_type": "stream",
     "text": [
      "column a, column b\n",
      "9   4\n",
      "3   6\n",
      "1   9\n",
      "3   2\n",
      "4   1\n",
      "3   8\n",
      "6   7\n",
      "Sorted indices-> [2 3 1 5 4 6 0]\n"
     ]
    }
   ],
   "source": [
    "# Numpy array created\n",
    "# First column\n",
    "a = np.array([9, 3, 1, 3, 4, 3, 6])\n",
    " \n",
    "# Second column\n",
    "b = np.array([4, 6, 9, 2, 1, 8, 7])\n",
    "print('column a, column b')\n",
    "for (i, j) in zip(a, b):\n",
    "    print(i, ' ', j)\n",
    " \n",
    "# Sort by a then by b\n",
    "ind = np.lexsort((b, a))\n",
    "print('Sorted indices->', ind)"
   ]
  },
  {
   "cell_type": "code",
   "execution_count": 32,
   "id": "58893b72",
   "metadata": {},
   "outputs": [
    {
     "name": "stdout",
     "output_type": "stream",
     "text": [
      "Original array: \n",
      "[[23 46 85]\n",
      " [43 56 99]\n",
      " [11 34 55]]\n",
      "\n",
      "Copied array: \n",
      "[[23 46 85]\n",
      " [43 56 99]\n",
      " [11 34 55]]\n"
     ]
    }
   ],
   "source": [
    "# Creating a 3-D numpy array using np.array()\n",
    "org_array = np.array([[23, 46, 85],\n",
    "                      [43, 56, 99],\n",
    "                      [11, 34, 55]])\n",
    "  \n",
    "print(\"Original array: \")\n",
    "  \n",
    "# printing the Numpy array\n",
    "print(org_array)\n",
    "  \n",
    "# Now copying the org_array to copy_array\n",
    "# using np.copy() function\n",
    "copy_array = np.copy(org_array)\n",
    "  \n",
    "print(\"\\nCopied array: \")\n",
    "  \n",
    "# printing the copied Numpy array\n",
    "print(copy_array)"
   ]
  },
  {
   "cell_type": "code",
   "execution_count": 33,
   "id": "3d8761f5",
   "metadata": {},
   "outputs": [
    {
     "name": "stdout",
     "output_type": "stream",
     "text": [
      "140449636120016\n",
      "140449636119632\n"
     ]
    }
   ],
   "source": [
    "print(id(org_array))\n",
    "print(id(copy_array))"
   ]
  },
  {
   "cell_type": "code",
   "execution_count": 34,
   "id": "c55c0afb",
   "metadata": {},
   "outputs": [
    {
     "name": "stdout",
     "output_type": "stream",
     "text": [
      "Original array:\n",
      "[[ 0  1  2]\n",
      " [ 3  4  5]\n",
      " [ 6  7  8]\n",
      " [ 9 10 11]]\n"
     ]
    }
   ],
   "source": [
    "# creating array with shape(4,3)\n",
    "my_array = np.arange(12).reshape(4, 3)\n",
    "print(\"Original array:\")\n",
    "print(my_array)"
   ]
  },
  {
   "cell_type": "code",
   "execution_count": 35,
   "id": "ca1eb760",
   "metadata": {},
   "outputs": [
    {
     "name": "stdout",
     "output_type": "stream",
     "text": [
      " After Swapping :\n",
      "[[ 1  0  2]\n",
      " [ 4  3  5]\n",
      " [ 7  6  8]\n",
      " [10  9 11]]\n"
     ]
    }
   ],
   "source": [
    "\n",
    "def Swap(arr, start_index, last_index):\n",
    "    arr[:, [start_index, last_index]] = arr[:, [last_index, start_index]]\n",
    " \n",
    "# passing parameter into the function\n",
    "Swap(my_array, 0, 1)\n",
    "print(\" After Swapping :\")\n",
    "print(my_array)"
   ]
  },
  {
   "cell_type": "code",
   "execution_count": 36,
   "id": "a323bce6",
   "metadata": {},
   "outputs": [
    {
     "name": "stdout",
     "output_type": "stream",
     "text": [
      "array1  [10 20 30 40]\n",
      "array2  [20 40 60 80]\n",
      "Union of two arrays : [10 20 30 40 60 80]\n"
     ]
    }
   ],
   "source": [
    "arr1 = np.array([10, 20, 30, 40])\n",
    "print(\"array1 \", arr1)\n",
    "  \n",
    "arr2 = np.array([20, 40, 60, 80])\n",
    "print(\"array2 \", arr2)\n",
    "  \n",
    "# print union of the two arrays\n",
    "print(\"Union of two arrays :\", np.union1d(arr1, arr2))"
   ]
  },
  {
   "cell_type": "code",
   "execution_count": 37,
   "id": "b164f13c",
   "metadata": {},
   "outputs": [
    {
     "name": "stdout",
     "output_type": "stream",
     "text": [
      "array1 \n",
      "[[1 2 3]\n",
      " [4 5 6]]\n",
      "array2  [ 0  5 10]\n",
      "Union of two arrays [ 0  1  2  3  4  5  6 10]\n"
     ]
    }
   ],
   "source": [
    "# 2-d array\n",
    "arr1 = np.array([[1, 2, 3], [4, 5, 6]])\n",
    "print(\"array1 \")\n",
    "print(arr1)\n",
    "  \n",
    "arr2 = np.array([0, 5, 10])\n",
    "print(\"array2 \", arr2)\n",
    "  \n",
    "# print union of 2-d array and 1-d array\n",
    "print(\"Union of two arrays\", np.union1d(arr1, arr2))"
   ]
  },
  {
   "cell_type": "code",
   "execution_count": 38,
   "id": "521e06a5",
   "metadata": {},
   "outputs": [
    {
     "name": "stdout",
     "output_type": "stream",
     "text": [
      "The element wise square root is : \n",
      "[[1.         1.41421356]\n",
      " [2.         2.23606798]]\n",
      "The summation of all matrix element is : \n",
      "34\n",
      "The column wise summation of all matrix  is : \n",
      "[16 18]\n",
      "The row wise summation of all matrix  is : \n",
      "[15 19]\n",
      "The transpose of given matrix is : \n",
      "[[1 4]\n",
      " [2 5]]\n"
     ]
    }
   ],
   "source": [
    "# initializing matrices\n",
    "x = np.array([[1, 2], [4, 5]])\n",
    "y = np.array([[7, 8], [9, 10]])\n",
    " \n",
    "# using sqrt() to print the square root of matrix\n",
    "print (\"The element wise square root is : \")\n",
    "print (np.sqrt(x))\n",
    " \n",
    "# using sum() to print summation of all elements of matrix\n",
    "print (\"The summation of all matrix element is : \")\n",
    "print (np.sum(y))\n",
    " \n",
    "# using sum(axis=0) to print summation of all columns of matrix\n",
    "print (\"The column wise summation of all matrix  is : \")\n",
    "print (np.sum(y,axis=0))\n",
    " \n",
    "# using sum(axis=1) to print summation of all columns of matrix\n",
    "print (\"The row wise summation of all matrix  is : \")\n",
    "print (np.sum(y,axis=1))\n",
    " \n",
    "# using \"T\" to transpose the matrix\n",
    "print (\"The transpose of given matrix is : \")\n",
    "print (x.T)"
   ]
  },
  {
   "cell_type": "code",
   "execution_count": 39,
   "id": "5fadfc7c",
   "metadata": {},
   "outputs": [
    {
     "name": "stdout",
     "output_type": "stream",
     "text": [
      "Array : [ 1  2  3  4  5  6  7  8  9 10 11 12 13 14 15 16]\n",
      "First Reshaped Array : \n",
      "[[ 1  2  3  4]\n",
      " [ 5  6  7  8]\n",
      " [ 9 10 11 12]\n",
      " [13 14 15 16]]\n",
      "Second Reshaped Array : \n",
      "[[ 1  2  3  4  5  6  7  8]\n",
      " [ 9 10 11 12 13 14 15 16]]\n"
     ]
    }
   ],
   "source": [
    "# creating a numpy array\n",
    "array = np.array([1, 2, 3, 4, 5, 6, 7, 8, 9, 10, 11, 12, 13, 14, 15, 16])\n",
    " \n",
    "# printing array\n",
    "print(\"Array : \" + str(array))\n",
    " \n",
    "# length of array\n",
    "n = array.size\n",
    " \n",
    "# N-D array N dimension\n",
    "N = 4\n",
    " \n",
    "# calculating M\n",
    "M = n//N\n",
    " \n",
    "# reshaping numpy array\n",
    "# converting it to 2-D from 1-D array\n",
    "reshaped1 = array.reshape((N, M))\n",
    " \n",
    "# printing reshaped array\n",
    "print(\"First Reshaped Array : \")\n",
    "print(reshaped1)\n",
    " \n",
    "# creating another reshaped array\n",
    "reshaped2 = np.reshape(array, (2, 8))\n",
    " \n",
    "# printing reshaped array\n",
    "print(\"Second Reshaped Array : \")\n",
    "print(reshaped2)"
   ]
  },
  {
   "cell_type": "code",
   "execution_count": 47,
   "id": "d7ad9c76",
   "metadata": {},
   "outputs": [
    {
     "name": "stdout",
     "output_type": "stream",
     "text": [
      "Array : [ 1  2  3  4  5  6  7  8  9 10 11 12 13 14 15 16]\n",
      "First Reshaped Array : \n",
      "[[[ 1  2  3  4]\n",
      "  [ 5  6  7  8]]\n",
      "\n",
      " [[ 9 10 11 12]\n",
      "  [13 14 15 16]]]\n",
      "Second Reshaped Array : \n",
      "[[ 1  2  3  4]\n",
      " [ 5  6  7  8]\n",
      " [ 9 10 11 12]\n",
      " [13 14 15 16]]\n"
     ]
    }
   ],
   "source": [
    "# creating a numpy array\n",
    "array = np.array([1, 2, 3, 4, 5, 6, 7, 8, 9, 10, 11, 12, 13, 14, 15, 16])\n",
    " \n",
    "# printing array\n",
    "print(\"Array : \" + str(array))\n",
    " \n",
    " \n",
    "# reshaping numpy array\n",
    "# converting it to 3-D from 1-D array\n",
    "reshaped1 = array.reshape((2, 2, -1))\n",
    " \n",
    "# printing reshaped array\n",
    "print(\"First Reshaped Array : \")\n",
    "print(reshaped1)\n",
    " \n",
    " \n",
    "# converting it to 2-D array\n",
    "reshaped2 = array.reshape((4, -1))\n",
    " \n",
    "# printing reshaped array\n",
    "print(\"Second Reshaped Array : \")\n",
    "print(reshaped2)"
   ]
  },
  {
   "cell_type": "code",
   "execution_count": 48,
   "id": "1f02a89f",
   "metadata": {},
   "outputs": [
    {
     "name": "stdout",
     "output_type": "stream",
     "text": [
      " 2-D Array : \n",
      "[[1 2 3]\n",
      " [4 5 6]\n",
      " [7 8 9]]\n"
     ]
    }
   ],
   "source": [
    "# creating a numpy array\n",
    "array = np.array([[1, 2, 3],\n",
    "                 [4, 5, 6],\n",
    "                 [7, 8, 9]])\n",
    " \n",
    "# printing array\n",
    "print(\" 2-D Array : \")\n",
    "print(array)"
   ]
  },
  {
   "cell_type": "code",
   "execution_count": 55,
   "id": "fe134b73",
   "metadata": {},
   "outputs": [],
   "source": [
    "# reshaping it into 1, 5\n",
    "reshaped = array.reshape((3, 3))"
   ]
  },
  {
   "cell_type": "code",
   "execution_count": 56,
   "id": "4980e5d9",
   "metadata": {},
   "outputs": [],
   "source": [
    "# A\n",
    "a =[0, 0, 1, 1, 0, 0,\n",
    "   0, 1, 0, 0, 1, 0,\n",
    "   1, 1, 1, 1, 1, 1,\n",
    "   1, 0, 0, 0, 0, 1,\n",
    "   1, 0, 0, 0, 0, 1]\n",
    "# B\n",
    "b =[0, 1, 1, 1, 1, 0,\n",
    "   0, 1, 0, 0, 1, 0,\n",
    "   0, 1, 1, 1, 1, 0,\n",
    "   0, 1, 0, 0, 1, 0,\n",
    "   0, 1, 1, 1, 1, 0]\n",
    "# C\n",
    "c =[0, 1, 1, 1, 1, 0,\n",
    "   0, 1, 0, 0, 0, 0,\n",
    "   0, 1, 0, 0, 0, 0,\n",
    "   0, 1, 0, 0, 0, 0,\n",
    "   0, 1, 1, 1, 1, 0]\n",
    " \n",
    "# Creating labels\n",
    "y =[[1, 0, 0],\n",
    "   [0, 1, 0],\n",
    "   [0, 0, 1]]"
   ]
  },
  {
   "cell_type": "code",
   "execution_count": 57,
   "id": "9f1efaff",
   "metadata": {},
   "outputs": [
    {
     "data": {
      "image/png": "[encoded data removed]",
      "text/plain": [
       "<Figure size 432x288 with 1 Axes>"
      ]
     },
     "metadata": {
      "needs_background": "light"
     },
     "output_type": "display_data"
    }
   ],
   "source": [
    "import matplotlib.pyplot as plt\n",
    "# visualizing the data, ploting A.\n",
    "plt.imshow(np.array(a).reshape(5, 6))\n",
    "plt.show()"
   ]
  },
  {
   "cell_type": "code",
   "execution_count": 58,
   "id": "1be31b75",
   "metadata": {},
   "outputs": [
    {
     "name": "stdout",
     "output_type": "stream",
     "text": [
      "[array([[0, 0, 1, 1, 0, 0, 0, 1, 0, 0, 1, 0, 1, 1, 1, 1, 1, 1, 1, 0, 0, 0,\n",
      "        0, 1, 1, 0, 0, 0, 0, 1]]), array([[0, 1, 1, 1, 1, 0, 0, 1, 0, 0, 1, 0, 0, 1, 1, 1, 1, 0, 0, 1, 0, 0,\n",
      "        1, 0, 0, 1, 1, 1, 1, 0]]), array([[0, 1, 1, 1, 1, 0, 0, 1, 0, 0, 0, 0, 0, 1, 0, 0, 0, 0, 0, 1, 0, 0,\n",
      "        0, 0, 0, 1, 1, 1, 1, 0]])] \n",
      "\n",
      " [[1 0 0]\n",
      " [0 1 0]\n",
      " [0 0 1]]\n"
     ]
    }
   ],
   "source": [
    "x =[np.array(a).reshape(1, 30), np.array(b).reshape(1, 30),\n",
    "                                np.array(c).reshape(1, 30)]\n",
    " \n",
    " \n",
    "# Labels are also converted into NumPy array\n",
    "y = np.array(y)\n",
    " \n",
    " \n",
    "print(x, \"\\n\\n\", y)"
   ]
  },
  {
   "cell_type": "code",
   "execution_count": 61,
   "id": "8ccdac6c",
   "metadata": {},
   "outputs": [],
   "source": [
    "def sigmoid(x):\n",
    "    return(1/(1 + np.exp(-x)))\n",
    "   \n",
    "# Creating the Feed forward neural network\n",
    "# 1 Input layer(1, 30)\n",
    "# 1 hidden layer (1, 5)\n",
    "# 1 output layer(3, 3)\n",
    " \n",
    "def f_forward(x, w1, w2):\n",
    "    # hidden\n",
    "    z1 = x.dot(w1)# input from layer 1\n",
    "    a1 = sigmoid(z1)# out put of layer 2\n",
    "     \n",
    "    # Output layer\n",
    "    z2 = a1.dot(w2)# input of out layer\n",
    "    a2 = sigmoid(z2)# output of out layer\n",
    "    return(a2)\n",
    "  \n",
    "# initializing the weights randomly\n",
    "def generate_wt(x, y):\n",
    "    l =[]\n",
    "    for i in range(x * y):\n",
    "        l.append(np.random.randn())\n",
    "    return(np.array(l).reshape(x, y))\n",
    "     \n",
    "# for loss we will be using mean square error(MSE)\n",
    "def loss(out, Y):\n",
    "    s =(np.square(out-Y))\n",
    "    s = np.sum(s)/len(y)\n",
    "    return(s)\n",
    "   \n",
    "# Back propagation of error\n",
    "def back_prop(x, y, w1, w2, alpha):\n",
    "     \n",
    "    # hidden layer\n",
    "    z1 = x.dot(w1)# input from layer 1\n",
    "    a1 = sigmoid(z1)# output of layer 2\n",
    "     \n",
    "    # Output layer\n",
    "    z2 = a1.dot(w2)# input of out layer\n",
    "    a2 = sigmoid(z2)# output of out layer\n",
    "    # error in output layer\n",
    "    d2 =(a2-y)\n",
    "    d1 = np.multiply((w2.dot((d2.transpose()))).transpose(),\n",
    "                                   (np.multiply(a1, 1-a1)))\n",
    " \n",
    "    # Gradient for w1 and w2\n",
    "    w1_adj = x.transpose().dot(d1)\n",
    "    w2_adj = a1.transpose().dot(d2)\n",
    "     \n",
    "    # Updating parameters\n",
    "    w1 = w1-(alpha*(w1_adj))\n",
    "    w2 = w2-(alpha*(w2_adj))\n",
    "     \n",
    "    return(w1, w2)\n",
    " \n",
    "def train(x, Y, w1, w2, alpha = 0.01, epoch = 10):\n",
    "    acc =[]\n",
    "    losss =[]\n",
    "    for j in range(epoch):\n",
    "        l =[]\n",
    "        for i in range(len(x)):\n",
    "            out = f_forward(x[i], w1, w2)\n",
    "            l.append((loss(out, Y[i])))\n",
    "            w1, w2 = back_prop(x[i], y[i], w1, w2, alpha)\n",
    "        print(\"epochs:\", j + 1, \"======== acc:\", (1-(sum(l)/len(x)))*100)  \n",
    "        acc.append((1-(sum(l)/len(x)))*100)\n",
    "        losss.append(sum(l)/len(x))\n",
    "    return(acc, losss, w1, w2)\n",
    "  \n",
    "def predict(x, w1, w2):\n",
    "    Out = f_forward(x, w1, w2)\n",
    "    maxm = 0\n",
    "    k = 0\n",
    "    for i in range(len(Out[0])):\n",
    "        if(maxm<Out[0][i]):\n",
    "            maxm = Out[0][i]\n",
    "            k = i\n",
    "    if(k == 0):\n",
    "        print(\"Image is of letter A.\")\n",
    "    elif(k == 1):\n",
    "        print(\"Image is of letter B.\")\n",
    "    else:\n",
    "        print(\"Image is of letter C.\")\n",
    "    plt.imshow(x.reshape(5, 6))\n",
    "    plt.show() "
   ]
  },
  {
   "cell_type": "code",
   "execution_count": 62,
   "id": "59208933",
   "metadata": {},
   "outputs": [
    {
     "name": "stdout",
     "output_type": "stream",
     "text": [
      "[[-1.02446789  0.83541468 -0.36684085  0.59301379  1.34007011]\n",
      " [ 0.46561563 -1.55015955  1.29234547 -1.34900741  0.04207619]\n",
      " [ 1.26268945 -0.92254076 -0.31449165 -0.65582315 -0.66870499]\n",
      " [-0.41139856  1.621793   -0.93631245  1.56450521  0.88999729]\n",
      " [ 1.13229334  0.7881175   1.89233678 -1.03208612  0.77259491]\n",
      " [-0.47802595 -0.52967563  0.53158219 -0.39676426  0.29212241]\n",
      " [ 1.63660895  1.19498974  0.55662636 -2.373135   -0.37041648]\n",
      " [-2.1727706   0.27116917 -0.68679064  1.04406214 -0.14754304]\n",
      " [ 1.31449769 -1.01224801  1.98359802 -0.46202288  0.32311592]\n",
      " [ 0.81571591 -0.96296591 -0.15278894 -1.35362535 -0.48708543]\n",
      " [ 0.40020179  0.62618792  0.1722237   0.81781911  0.96919877]\n",
      " [ 0.77200415  2.08095854  1.97682773 -0.30164658 -0.27848848]\n",
      " [ 1.37102484  0.69587603 -0.82172978 -1.0178004  -0.14002876]\n",
      " [-0.39331699 -0.82235123 -0.75701072  0.38104823 -1.29616637]\n",
      " [-0.13877108 -0.17175967  0.08741508  0.40880365  0.55218202]\n",
      " [-0.34631552  0.17368384 -1.27487802  0.02575581 -0.02549262]\n",
      " [-1.36911021  1.36543202  0.02091025  0.42563734 -0.74360113]\n",
      " [ 0.38016837 -1.80847418  1.93754351  0.98696062  1.46884024]\n",
      " [-2.04109004 -0.79961726 -0.00367474 -0.10938549 -0.03790786]\n",
      " [ 1.18058154 -0.28652857 -0.33048796  0.97856867  2.74324597]\n",
      " [-0.1113437   1.38648859  1.61404604 -0.45924566  0.32408708]\n",
      " [-1.06785134 -0.07191851 -0.06355069 -1.01016395  1.53973662]\n",
      " [ 0.08986314  0.02585726 -0.11186876 -1.09446208 -0.16598679]\n",
      " [ 0.19526562  1.79609763 -0.85539874 -0.41487238  0.21824577]\n",
      " [-1.4813854   0.74840257  0.7477805  -1.26793176  0.89815546]\n",
      " [ 1.90332556 -0.54403713  1.16408071 -0.12901474  1.67064035]\n",
      " [ 0.83795203  1.07628061  0.50264138 -0.40368824  1.39597453]\n",
      " [-1.55328556  1.96927156  1.86249529 -0.89121866 -0.03404471]\n",
      " [-0.41154512 -0.15446724 -0.63938238 -1.50524375  0.12209133]\n",
      " [-1.75316311 -0.5244521   1.16326826 -0.50905527 -0.69514661]] \n",
      "\n",
      " [[ 0.51149539  0.50933146 -0.68993146]\n",
      " [-0.30764916  0.23307708 -0.10084462]\n",
      " [ 0.13236902 -0.90532958  1.57921964]\n",
      " [-0.71706897 -1.78819621  0.1854007 ]\n",
      " [-0.46694772 -0.4795764   0.04546388]]\n"
     ]
    }
   ],
   "source": [
    "w1 = generate_wt(30, 5)\n",
    "w2 = generate_wt(5, 3)\n",
    "print(w1, \"\\n\\n\", w2)"
   ]
  },
  {
   "cell_type": "code",
   "execution_count": 67,
   "id": "30e8f8fb",
   "metadata": {},
   "outputs": [
    {
     "name": "stdout",
     "output_type": "stream",
     "text": [
      "epochs: 1 ======== acc: 70.69840614758822\n",
      "epochs: 2 ======== acc: 73.12818743362159\n",
      "epochs: 3 ======== acc: 75.09535652621778\n",
      "epochs: 4 ======== acc: 76.71220747741773\n",
      "epochs: 5 ======== acc: 78.05542829321347\n",
      "epochs: 6 ======== acc: 79.17299572252479\n",
      "epochs: 7 ======== acc: 80.10855909404067\n",
      "epochs: 8 ======== acc: 80.91140817974212\n",
      "epochs: 9 ======== acc: 81.62695732060433\n",
      "epochs: 10 ======== acc: 82.28820440354052\n",
      "epochs: 11 ======== acc: 82.91582619783578\n",
      "epochs: 12 ======== acc: 83.52188818068161\n",
      "epochs: 13 ======== acc: 84.11319655796194\n",
      "epochs: 14 ======== acc: 84.69343653379536\n",
      "epochs: 15 ======== acc: 85.26438490812556\n",
      "epochs: 16 ======== acc: 85.82658581864312\n",
      "epochs: 17 ======== acc: 86.37974883079903\n",
      "epochs: 18 ======== acc: 86.92301188836447\n",
      "epochs: 19 ======== acc: 87.45513964876713\n",
      "epochs: 20 ======== acc: 87.9746882333126\n",
      "epochs: 21 ======== acc: 88.48014715690377\n",
      "epochs: 22 ======== acc: 88.97005980462174\n",
      "epochs: 23 ======== acc: 89.443120496674\n",
      "epochs: 24 ======== acc: 89.89824609215017\n",
      "epochs: 25 ======== acc: 90.33462148212877\n",
      "epochs: 26 ======== acc: 90.75172017271734\n",
      "epochs: 27 ======== acc: 91.14930288957042\n",
      "epochs: 28 ======== acc: 91.52739845701909\n",
      "epochs: 29 ======== acc: 91.88627196728834\n",
      "epochs: 30 ======== acc: 92.22638539733823\n",
      "epochs: 31 ======== acc: 92.54835538892658\n",
      "epochs: 32 ======== acc: 92.85291202212815\n",
      "epochs: 33 ======== acc: 93.14086129598651\n",
      "epochs: 34 ======== acc: 93.4130529029487\n",
      "epochs: 35 ======== acc: 93.67035391618792\n",
      "epochs: 36 ======== acc: 93.91362829086057\n",
      "epochs: 37 ======== acc: 94.14372162604803\n",
      "epochs: 38 ======== acc: 94.36145040655876\n",
      "epochs: 39 ======== acc: 94.56759488291712\n",
      "epochs: 40 ======== acc: 94.76289479259536\n",
      "epochs: 41 ======== acc: 94.94804722562849\n",
      "epochs: 42 ======== acc: 95.12370605776216\n",
      "epochs: 43 ======== acc: 95.29048249248453\n",
      "epochs: 44 ======== acc: 95.4489463584121\n",
      "epochs: 45 ======== acc: 95.59962789624352\n",
      "epochs: 46 ======== acc: 95.74301983964916\n",
      "epochs: 47 ======== acc: 95.87957964886563\n",
      "epochs: 48 ======== acc: 96.00973179701413\n",
      "epochs: 49 ======== acc: 96.13387003991434\n",
      "epochs: 50 ======== acc: 96.25235962279388\n",
      "epochs: 51 ======== acc: 96.36553939376229\n",
      "epochs: 52 ======== acc: 96.47372380578571\n",
      "epochs: 53 ======== acc: 96.57720479736204\n",
      "epochs: 54 ======== acc: 96.6762535480588\n",
      "epochs: 55 ======== acc: 96.77112210921102\n",
      "epochs: 56 ======== acc: 96.86204491287866\n",
      "epochs: 57 ======== acc: 96.94924016399983\n",
      "epochs: 58 ======== acc: 97.03291112181402\n",
      "epochs: 59 ======== acc: 97.11324727726675\n",
      "epochs: 60 ======== acc: 97.19042543338638\n",
      "epochs: 61 ======== acc: 97.26461069565369\n",
      "epochs: 62 ======== acc: 97.335957379241\n",
      "epochs: 63 ======== acc: 97.40460983973927\n",
      "epochs: 64 ======== acc: 97.47070323365898\n",
      "epochs: 65 ======== acc: 97.5343642146159\n",
      "epochs: 66 ======== acc: 97.59571157071619\n",
      "epochs: 67 ======== acc: 97.6548568082545\n",
      "epochs: 68 ======== acc: 97.71190468644292\n",
      "epochs: 69 ======== acc: 97.76695370750633\n",
      "epochs: 70 ======== acc: 97.82009656611568\n",
      "epochs: 71 ======== acc: 97.87142056178783\n",
      "epochs: 72 ======== acc: 97.92100797756027\n",
      "epochs: 73 ======== acc: 97.9689364279517\n",
      "epochs: 74 ======== acc: 98.01527917894649\n",
      "epochs: 75 ======== acc: 98.06010544248797\n",
      "epochs: 76 ======== acc: 98.10348064773727\n",
      "epochs: 77 ======== acc: 98.14546669114316\n",
      "epochs: 78 ======== acc: 98.186122167178\n",
      "epochs: 79 ======== acc: 98.2255025814219\n",
      "epochs: 80 ======== acc: 98.26366054751934\n",
      "epochs: 81 ======== acc: 98.30064596939062\n",
      "epochs: 82 ======== acc: 98.33650620995196\n",
      "epochs: 83 ======== acc: 98.37128624748118\n",
      "epochs: 84 ======== acc: 98.40502882066131\n",
      "epochs: 85 ======== acc: 98.43777456323917\n",
      "epochs: 86 ======== acc: 98.46956212915063\n",
      "epochs: 87 ======== acc: 98.5004283088863\n",
      "epochs: 88 ======== acc: 98.53040813780213\n",
      "epochs: 89 ======== acc: 98.5595349970159\n",
      "epochs: 90 ======== acc: 98.58784070747353\n",
      "epochs: 91 ======== acc: 98.61535561771777\n",
      "epochs: 92 ======== acc: 98.64210868584517\n",
      "epochs: 93 ======== acc: 98.66812755609503\n",
      "epochs: 94 ======== acc: 98.69343863047575\n",
      "epochs: 95 ======== acc: 98.71806713579988\n",
      "epochs: 96 ======== acc: 98.74203718646703\n",
      "epochs: 97 ======== acc: 98.76537184330648\n",
      "epochs: 98 ======== acc: 98.7880931687643\n",
      "epochs: 99 ======== acc: 98.81022227869755\n",
      "epochs: 100 ======== acc: 98.83177939101586\n"
     ]
    },
    {
     "data": {
      "image/png": "[encoded data removed]",
      "text/plain": [
       "<Figure size 432x288 with 1 Axes>"
      ]
     },
     "metadata": {
      "needs_background": "light"
     },
     "output_type": "display_data"
    },
    {
     "data": {
      "image/png": "[encoded data removed]",
      "text/plain": [
       "<Figure size 432x288 with 1 Axes>"
      ]
     },
     "metadata": {
      "needs_background": "light"
     },
     "output_type": "display_data"
    }
   ],
   "source": [
    "import matplotlib.pyplot as plt1\n",
    "acc, losss, w1, w2 = train(x, y, w1, w2, 0.1, 100)\n",
    "# ploting accuracy\n",
    "plt1.plot(acc)\n",
    "plt1.ylabel('Accuracy')\n",
    "plt1.xlabel(\"Epochs:\")\n",
    "plt1.show()\n",
    " \n",
    "# plotting Loss\n",
    "plt1.plot(losss)\n",
    "plt1.ylabel('Loss')\n",
    "plt1.xlabel(\"Epochs:\")\n",
    "plt1.show()\n",
    "\n"
   ]
  },
  {
   "cell_type": "code",
   "execution_count": 1,
   "id": "b3a53a7c",
   "metadata": {},
   "outputs": [],
   "source": [
    "# Import the pandas library as pd\n",
    "import pandas as pd\n",
    "  \n",
    "data = [75, 69, 56, 46, 47, 79, 92, 97, 89, 88,\n",
    "        36, 96, 105, 32, 116, 101, 79, 93, 91, 112]\n",
    "  \n",
    "# Creating data frame of the given data\n",
    "df = pd.DataFrame(data)"
   ]
  },
  {
   "cell_type": "code",
   "execution_count": 4,
   "id": "ad224a51",
   "metadata": {},
   "outputs": [
    {
     "data": {
      "text/plain": [
       "0    20.055\n",
       "dtype: float64"
      ]
     },
     "execution_count": 4,
     "metadata": {},
     "output_type": "execute_result"
    }
   ],
   "source": [
    "df.mad()\n"
   ]
  },
  {
   "cell_type": "code",
   "execution_count": null,
   "id": "20d92739",
   "metadata": {},
   "outputs": [],
   "source": []
  }
 ],
 "metadata": {
  "kernelspec": {
   "display_name": "Python 3 (ipykernel)",
   "language": "python",
   "name": "python3"
  },
  "language_info": {
   "codemirror_mode": {
    "name": "ipython",
    "version": 3
   },
   "file_extension": ".py",
   "mimetype": "text/x-python",
   "name": "python",
   "nbconvert_exporter": "python",
   "pygments_lexer": "ipython3",
   "version": "3.9.7"
  }
 },
 "nbformat": 4,
 "nbformat_minor": 5
}
